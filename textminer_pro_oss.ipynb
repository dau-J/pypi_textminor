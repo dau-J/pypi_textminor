{
  "nbformat": 4,
  "nbformat_minor": 0,
  "metadata": {
    "colab": {
      "provenance": [],
      "include_colab_link": true
    },
    "kernelspec": {
      "name": "python3",
      "display_name": "Python 3"
    },
    "language_info": {
      "name": "python"
    }
  },
  "cells": [
    {
      "cell_type": "markdown",
      "metadata": {
        "id": "view-in-github",
        "colab_type": "text"
      },
      "source": [
        "<a href=\"https://colab.research.google.com/github/dau-J/pypi_textminor/blob/master/textminer_pro_oss.ipynb\" target=\"_parent\"><img src=\"https://colab.research.google.com/assets/colab-badge.svg\" alt=\"Open In Colab\"/></a>"
      ]
    },
    {
      "cell_type": "markdown",
      "source": [
        "# textminer-pro: 텍스트 전처리 분석\n",
        "\n",
        "## 정현성\n",
        "\n",
        "NLTK, scikit-learn, Sumy, langdetect\n",
        "\n",
        "- 불용어 제거 (remove_stopwords)\n",
        "- 키워드 추출 (extract_keywords)\n",
        "- 텍스트 요약 (summarize_text)\n",
        "- 언어 감지 (detect_language)"
      ],
      "metadata": {
        "id": "VWn3TSq7Bvxk"
      }
    },
    {
      "cell_type": "markdown",
      "source": [
        "# 폴더 생성"
      ],
      "metadata": {
        "id": "1sdnMly6B24H"
      }
    },
    {
      "cell_type": "code",
      "execution_count": 2,
      "metadata": {
        "id": "RAI4FyFqW20c"
      },
      "outputs": [],
      "source": [
        "!rm -rf textminer_pro\n",
        "!mkdir -p textminer_pro/textminer\n",
        "!mkdir -p textminer_pro/tests\n",
        "!mkdir -p textminer_pro/.github/workflows"
      ]
    },
    {
      "cell_type": "markdown",
      "source": [
        "# 필요 라이브러리 설치"
      ],
      "metadata": {
        "id": "PVqZh5r2B7Gd"
      }
    },
    {
      "cell_type": "code",
      "source": [
        "!pip install langdetect\n",
        "!pip install sumy\n",
        "!pip install twine"
      ],
      "metadata": {
        "colab": {
          "base_uri": "https://localhost:8080/"
        },
        "id": "NoLc0Y6c-xYM",
        "outputId": "c0a0b2a0-512c-4c50-eb7f-f65cfe87d78e"
      },
      "execution_count": 3,
      "outputs": [
        {
          "output_type": "stream",
          "name": "stdout",
          "text": [
            "Requirement already satisfied: langdetect in /usr/local/lib/python3.11/dist-packages (1.0.9)\n",
            "Requirement already satisfied: six in /usr/local/lib/python3.11/dist-packages (from langdetect) (1.17.0)\n",
            "Requirement already satisfied: sumy in /usr/local/lib/python3.11/dist-packages (0.11.0)\n",
            "Requirement already satisfied: docopt<0.7,>=0.6.1 in /usr/local/lib/python3.11/dist-packages (from sumy) (0.6.2)\n",
            "Requirement already satisfied: breadability>=0.1.20 in /usr/local/lib/python3.11/dist-packages (from sumy) (0.1.20)\n",
            "Requirement already satisfied: requests>=2.7.0 in /usr/local/lib/python3.11/dist-packages (from sumy) (2.32.3)\n",
            "Requirement already satisfied: pycountry>=18.2.23 in /usr/local/lib/python3.11/dist-packages (from sumy) (24.6.1)\n",
            "Requirement already satisfied: nltk>=3.0.2 in /usr/local/lib/python3.11/dist-packages (from sumy) (3.9.1)\n",
            "Requirement already satisfied: chardet in /usr/local/lib/python3.11/dist-packages (from breadability>=0.1.20->sumy) (5.2.0)\n",
            "Requirement already satisfied: lxml>=2.0 in /usr/local/lib/python3.11/dist-packages (from breadability>=0.1.20->sumy) (5.4.0)\n",
            "Requirement already satisfied: click in /usr/local/lib/python3.11/dist-packages (from nltk>=3.0.2->sumy) (8.2.1)\n",
            "Requirement already satisfied: joblib in /usr/local/lib/python3.11/dist-packages (from nltk>=3.0.2->sumy) (1.5.1)\n",
            "Requirement already satisfied: regex>=2021.8.3 in /usr/local/lib/python3.11/dist-packages (from nltk>=3.0.2->sumy) (2024.11.6)\n",
            "Requirement already satisfied: tqdm in /usr/local/lib/python3.11/dist-packages (from nltk>=3.0.2->sumy) (4.67.1)\n",
            "Requirement already satisfied: charset-normalizer<4,>=2 in /usr/local/lib/python3.11/dist-packages (from requests>=2.7.0->sumy) (3.4.2)\n",
            "Requirement already satisfied: idna<4,>=2.5 in /usr/local/lib/python3.11/dist-packages (from requests>=2.7.0->sumy) (3.10)\n",
            "Requirement already satisfied: urllib3<3,>=1.21.1 in /usr/local/lib/python3.11/dist-packages (from requests>=2.7.0->sumy) (2.4.0)\n",
            "Requirement already satisfied: certifi>=2017.4.17 in /usr/local/lib/python3.11/dist-packages (from requests>=2.7.0->sumy) (2025.4.26)\n",
            "Requirement already satisfied: twine in /usr/local/lib/python3.11/dist-packages (6.1.0)\n",
            "Requirement already satisfied: readme-renderer>=35.0 in /usr/local/lib/python3.11/dist-packages (from twine) (44.0)\n",
            "Requirement already satisfied: requests>=2.20 in /usr/local/lib/python3.11/dist-packages (from twine) (2.32.3)\n",
            "Requirement already satisfied: requests-toolbelt!=0.9.0,>=0.8.0 in /usr/local/lib/python3.11/dist-packages (from twine) (1.0.0)\n",
            "Requirement already satisfied: urllib3>=1.26.0 in /usr/local/lib/python3.11/dist-packages (from twine) (2.4.0)\n",
            "Requirement already satisfied: keyring>=15.1 in /usr/local/lib/python3.11/dist-packages (from twine) (25.6.0)\n",
            "Requirement already satisfied: rfc3986>=1.4.0 in /usr/local/lib/python3.11/dist-packages (from twine) (2.0.0)\n",
            "Requirement already satisfied: rich>=12.0.0 in /usr/local/lib/python3.11/dist-packages (from twine) (13.9.4)\n",
            "Requirement already satisfied: packaging>=24.0 in /usr/local/lib/python3.11/dist-packages (from twine) (24.2)\n",
            "Requirement already satisfied: id in /usr/local/lib/python3.11/dist-packages (from twine) (1.5.0)\n",
            "Requirement already satisfied: SecretStorage>=3.2 in /usr/local/lib/python3.11/dist-packages (from keyring>=15.1->twine) (3.3.3)\n",
            "Requirement already satisfied: jeepney>=0.4.2 in /usr/local/lib/python3.11/dist-packages (from keyring>=15.1->twine) (0.9.0)\n",
            "Requirement already satisfied: importlib_metadata>=4.11.4 in /usr/local/lib/python3.11/dist-packages (from keyring>=15.1->twine) (8.7.0)\n",
            "Requirement already satisfied: jaraco.classes in /usr/local/lib/python3.11/dist-packages (from keyring>=15.1->twine) (3.4.0)\n",
            "Requirement already satisfied: jaraco.functools in /usr/local/lib/python3.11/dist-packages (from keyring>=15.1->twine) (4.1.0)\n",
            "Requirement already satisfied: jaraco.context in /usr/local/lib/python3.11/dist-packages (from keyring>=15.1->twine) (6.0.1)\n",
            "Requirement already satisfied: nh3>=0.2.14 in /usr/local/lib/python3.11/dist-packages (from readme-renderer>=35.0->twine) (0.2.21)\n",
            "Requirement already satisfied: docutils>=0.21.2 in /usr/local/lib/python3.11/dist-packages (from readme-renderer>=35.0->twine) (0.21.2)\n",
            "Requirement already satisfied: Pygments>=2.5.1 in /usr/local/lib/python3.11/dist-packages (from readme-renderer>=35.0->twine) (2.19.1)\n",
            "Requirement already satisfied: charset-normalizer<4,>=2 in /usr/local/lib/python3.11/dist-packages (from requests>=2.20->twine) (3.4.2)\n",
            "Requirement already satisfied: idna<4,>=2.5 in /usr/local/lib/python3.11/dist-packages (from requests>=2.20->twine) (3.10)\n",
            "Requirement already satisfied: certifi>=2017.4.17 in /usr/local/lib/python3.11/dist-packages (from requests>=2.20->twine) (2025.4.26)\n",
            "Requirement already satisfied: markdown-it-py>=2.2.0 in /usr/local/lib/python3.11/dist-packages (from rich>=12.0.0->twine) (3.0.0)\n",
            "Requirement already satisfied: zipp>=3.20 in /usr/local/lib/python3.11/dist-packages (from importlib_metadata>=4.11.4->keyring>=15.1->twine) (3.22.0)\n",
            "Requirement already satisfied: mdurl~=0.1 in /usr/local/lib/python3.11/dist-packages (from markdown-it-py>=2.2.0->rich>=12.0.0->twine) (0.1.2)\n",
            "Requirement already satisfied: cryptography>=2.0 in /usr/local/lib/python3.11/dist-packages (from SecretStorage>=3.2->keyring>=15.1->twine) (43.0.3)\n",
            "Requirement already satisfied: more-itertools in /usr/local/lib/python3.11/dist-packages (from jaraco.classes->keyring>=15.1->twine) (10.7.0)\n",
            "Requirement already satisfied: backports.tarfile in /usr/local/lib/python3.11/dist-packages (from jaraco.context->keyring>=15.1->twine) (1.2.0)\n",
            "Requirement already satisfied: cffi>=1.12 in /usr/local/lib/python3.11/dist-packages (from cryptography>=2.0->SecretStorage>=3.2->keyring>=15.1->twine) (1.17.1)\n",
            "Requirement already satisfied: pycparser in /usr/local/lib/python3.11/dist-packages (from cffi>=1.12->cryptography>=2.0->SecretStorage>=3.2->keyring>=15.1->twine) (2.22)\n"
          ]
        }
      ]
    },
    {
      "cell_type": "markdown",
      "source": [
        "# cleaner.py"
      ],
      "metadata": {
        "id": "VzgsQaUVCD4-"
      }
    },
    {
      "cell_type": "code",
      "source": [
        "%%writefile textminer_pro/textminer/cleaner.py\n",
        "import nltk\n",
        "from nltk.corpus import stopwords\n",
        "from nltk.tokenize import word_tokenize\n",
        "\n",
        "nltk.download('punkt', quiet=True)\n",
        "nltk.download('stopwords', quiet=True)\n",
        "\n",
        "def remove_stopwords(text: str, lang='english'):\n",
        "    tokens = word_tokenize(text)\n",
        "    stop_words = set(stopwords.words(lang))\n",
        "    filtered = [word for word in tokens if word.lower() not in stop_words]\n",
        "    return ' '.join(filtered)\n"
      ],
      "metadata": {
        "id": "pZ-cpFApaZ8D",
        "colab": {
          "base_uri": "https://localhost:8080/"
        },
        "outputId": "059a0ac9-5c7d-4a0e-ce30-4408c1ebdee8"
      },
      "execution_count": 4,
      "outputs": [
        {
          "output_type": "stream",
          "name": "stdout",
          "text": [
            "Writing textminer_pro/textminer/cleaner.py\n"
          ]
        }
      ]
    },
    {
      "cell_type": "markdown",
      "source": [
        "# keyword.py"
      ],
      "metadata": {
        "id": "aFF9tD0ECH6c"
      }
    },
    {
      "cell_type": "code",
      "source": [
        "%%writefile textminer_pro/textminer/keyword.py\n",
        "from sklearn.feature_extraction.text import TfidfVectorizer\n",
        "\n",
        "def extract_keywords(text: str, top_n=5):\n",
        "    vectorizer = TfidfVectorizer(stop_words='english')\n",
        "    tfidf_matrix = vectorizer.fit_transform([text])\n",
        "    scores = zip(vectorizer.get_feature_names_out(), tfidf_matrix.toarray()[0])\n",
        "    sorted_words = sorted(scores, key=lambda x: x[1], reverse=True)\n",
        "    return [word for word, score in sorted_words[:top_n]]"
      ],
      "metadata": {
        "id": "6win397ReU5l",
        "colab": {
          "base_uri": "https://localhost:8080/"
        },
        "outputId": "26e91ff9-ebbf-41df-bffb-45f918ea5b92"
      },
      "execution_count": 5,
      "outputs": [
        {
          "output_type": "stream",
          "name": "stdout",
          "text": [
            "Writing textminer_pro/textminer/keyword.py\n"
          ]
        }
      ]
    },
    {
      "cell_type": "markdown",
      "source": [
        "# summarizer.py"
      ],
      "metadata": {
        "id": "66iy07BwCKSk"
      }
    },
    {
      "cell_type": "code",
      "source": [
        "%%writefile textminer_pro/textminer/summarizer.py\n",
        "\n",
        "from sumy.parsers.plaintext import PlaintextParser\n",
        "from sumy.nlp.tokenizers import Tokenizer\n",
        "from sumy.summarizers.lsa import LsaSummarizer\n",
        "\n",
        "\n",
        "def summarize_text(text: str, ratio=0.2, language='english'):\n",
        "\n",
        "    parser = PlaintextParser.from_string(text, Tokenizer(language))\n",
        "    summarizer = LsaSummarizer()\n",
        "    sentence_count = max(1, int(len(parser.document.sentences) * ratio))\n",
        "    summary = summarizer(parser.document, sentence_count)\n",
        "    return ' '.join(str(sentence) for sentence in summary)"
      ],
      "metadata": {
        "id": "c6g4m04FebDM",
        "colab": {
          "base_uri": "https://localhost:8080/"
        },
        "outputId": "7d4b703d-c46f-4895-99fc-f45d8fdc896c"
      },
      "execution_count": 6,
      "outputs": [
        {
          "output_type": "stream",
          "name": "stdout",
          "text": [
            "Writing textminer_pro/textminer/summarizer.py\n"
          ]
        }
      ]
    },
    {
      "cell_type": "markdown",
      "source": [
        "# detector.py"
      ],
      "metadata": {
        "id": "bH94ckh6CMph"
      }
    },
    {
      "cell_type": "code",
      "source": [
        "%%writefile textminer_pro/textminer/detector.py\n",
        "from langdetect import detect\n",
        "\n",
        "def detect_language(text: str):\n",
        "    try:\n",
        "        return detect(text)\n",
        "    except:\n",
        "        return \"unknown\""
      ],
      "metadata": {
        "id": "c6hAiAn8eoX-",
        "colab": {
          "base_uri": "https://localhost:8080/"
        },
        "outputId": "70711238-98cf-4cd2-ec8a-9dff6a4fe97c"
      },
      "execution_count": 7,
      "outputs": [
        {
          "output_type": "stream",
          "name": "stdout",
          "text": [
            "Writing textminer_pro/textminer/detector.py\n"
          ]
        }
      ]
    },
    {
      "cell_type": "markdown",
      "source": [
        "# __init__.py"
      ],
      "metadata": {
        "id": "2gaKl3tDCQN5"
      }
    },
    {
      "cell_type": "code",
      "source": [
        "%%writefile textminer_pro/textminer/__init__.py\n",
        "from .cleaner import remove_stopwords\n",
        "from .keyword import extract_keywords\n",
        "from .summarizer import summarize_text\n",
        "from .detector import detect_language"
      ],
      "metadata": {
        "id": "qbWFQxGYeucT",
        "colab": {
          "base_uri": "https://localhost:8080/"
        },
        "outputId": "a4bd525b-6724-40bb-e2fd-88b2f31f0b79"
      },
      "execution_count": 8,
      "outputs": [
        {
          "output_type": "stream",
          "name": "stdout",
          "text": [
            "Writing textminer_pro/textminer/__init__.py\n"
          ]
        }
      ]
    },
    {
      "cell_type": "markdown",
      "source": [
        "# README.md"
      ],
      "metadata": {
        "id": "6-K-23RoCSwP"
      }
    },
    {
      "cell_type": "code",
      "source": [
        "%%writefile textminer_pro/README.md\n",
        "\n",
        "# textminerpro\n",
        "\n",
        "A Korean-friendly text preprocessing toolkit that supports:\n",
        "\n",
        "- remove_stopwords(text, lang='en')\n",
        "- extract_keywords(text, top_n=5)\n",
        "- summarize_text(text, ratio=0.2)\n",
        "- detect_language(text)"
      ],
      "metadata": {
        "id": "AUHOKOY7e0NN",
        "colab": {
          "base_uri": "https://localhost:8080/"
        },
        "outputId": "8f14b07e-ec11-43f1-a73b-a1634f7edf89"
      },
      "execution_count": 9,
      "outputs": [
        {
          "output_type": "stream",
          "name": "stdout",
          "text": [
            "Writing textminer_pro/README.md\n"
          ]
        }
      ]
    },
    {
      "cell_type": "markdown",
      "source": [
        "# setup.py"
      ],
      "metadata": {
        "id": "lqGY53qDCVno"
      }
    },
    {
      "cell_type": "code",
      "source": [
        "%%writefile textminer_pro/setup.py\n",
        "from setuptools import setup, find_packages\n",
        "\n",
        "setup(\n",
        "    name='textminerpro-hyeonsung',\n",
        "    version='0.0.1',\n",
        "    author='정현성',\n",
        "    author_email='2254784@donga.ac.kr',\n",
        "    packages=find_packages(),\n",
        "    install_requires=[\n",
        "        'nltk',\n",
        "        'scikit-learn',\n",
        "        'sumy',\n",
        "        'langdetect'\n",
        "    ],\n",
        "    description='Advanced text preprocessing package',\n",
        "    long_description=open('README.md', encoding='utf-8').read(),\n",
        "    long_description_content_type='text/markdown',\n",
        "    url='https://github.com/dau-J/pypi_textminor.git',\n",
        "    classifiers=[\n",
        "        'Programming Language :: Python :: 3',\n",
        "        'License :: OSI Approved :: MIT License',\n",
        "        'Operating System :: OS Independent',\n",
        "    ],\n",
        "    python_requires='>=3.6',\n",
        ")\n"
      ],
      "metadata": {
        "id": "1WB3CzVpe13f",
        "colab": {
          "base_uri": "https://localhost:8080/"
        },
        "outputId": "a1e9bf40-f692-4fc4-a2ff-7777756f0b27"
      },
      "execution_count": 10,
      "outputs": [
        {
          "output_type": "stream",
          "name": "stdout",
          "text": [
            "Writing textminer_pro/setup.py\n"
          ]
        }
      ]
    },
    {
      "cell_type": "markdown",
      "source": [
        "# test_cleaner.py"
      ],
      "metadata": {
        "id": "aFJxnoyhCeg0"
      }
    },
    {
      "cell_type": "code",
      "source": [
        "%%writefile textminer_pro/tests/test_cleaner.py\n",
        "from textminer.cleaner import remove_stopwords\n",
        "from nltk.tokenize import word_tokenize\n",
        "\n",
        "def test_remove_stopwords():\n",
        "    text = \"This is a sample sentence\"\n",
        "    result = remove_stopwords(text)\n",
        "    tokens = word_tokenize(result)\n",
        "\n",
        "    assert \"is\" not in tokens\n",
        "    assert \"a\" not in tokens\n",
        "    assert \"sample\" in tokens\n",
        "    assert \"sentence\" in tokens\n"
      ],
      "metadata": {
        "id": "8MYPzhBNfkYo",
        "colab": {
          "base_uri": "https://localhost:8080/"
        },
        "outputId": "78ee4363-daf3-4c2a-ae91-289bbe148f3a"
      },
      "execution_count": 11,
      "outputs": [
        {
          "output_type": "stream",
          "name": "stdout",
          "text": [
            "Writing textminer_pro/tests/test_cleaner.py\n"
          ]
        }
      ]
    },
    {
      "cell_type": "markdown",
      "source": [
        "# test_dector.py"
      ],
      "metadata": {
        "id": "Bq-bgwjuCh08"
      }
    },
    {
      "cell_type": "code",
      "source": [
        "%%writefile textminer_pro/tests/test_detector.py\n",
        "from textminer.detector import detect_language\n",
        "\n",
        "def test_detect_language():\n",
        "    text = \"This is an English sentence.\"\n",
        "    lang = detect_language(text)\n",
        "    assert lang == \"en\"\n"
      ],
      "metadata": {
        "id": "54UMuAaTflqq",
        "colab": {
          "base_uri": "https://localhost:8080/"
        },
        "outputId": "09b6632f-5541-46a1-cfd6-d864377259dc"
      },
      "execution_count": 12,
      "outputs": [
        {
          "output_type": "stream",
          "name": "stdout",
          "text": [
            "Writing textminer_pro/tests/test_detector.py\n"
          ]
        }
      ]
    },
    {
      "cell_type": "markdown",
      "source": [
        "# bdist_wheel"
      ],
      "metadata": {
        "id": "L8u8ScVuCkL4"
      }
    },
    {
      "cell_type": "code",
      "source": [
        "%cd /content/textminer_pro\n",
        "!python setup.py sdist bdist_wheel"
      ],
      "metadata": {
        "id": "VKwViFg-uxlc",
        "colab": {
          "base_uri": "https://localhost:8080/"
        },
        "outputId": "66114a0f-b40a-4b9d-a7d0-1e7645f04552"
      },
      "execution_count": 13,
      "outputs": [
        {
          "output_type": "stream",
          "name": "stdout",
          "text": [
            "/content/textminer_pro\n",
            "running sdist\n",
            "running egg_info\n",
            "creating textminerpro_hyeonsung.egg-info\n",
            "writing textminerpro_hyeonsung.egg-info/PKG-INFO\n",
            "writing dependency_links to textminerpro_hyeonsung.egg-info/dependency_links.txt\n",
            "writing requirements to textminerpro_hyeonsung.egg-info/requires.txt\n",
            "writing top-level names to textminerpro_hyeonsung.egg-info/top_level.txt\n",
            "writing manifest file 'textminerpro_hyeonsung.egg-info/SOURCES.txt'\n",
            "reading manifest file 'textminerpro_hyeonsung.egg-info/SOURCES.txt'\n",
            "writing manifest file 'textminerpro_hyeonsung.egg-info/SOURCES.txt'\n",
            "running check\n",
            "creating textminerpro_hyeonsung-0.0.1\n",
            "creating textminerpro_hyeonsung-0.0.1/tests\n",
            "creating textminerpro_hyeonsung-0.0.1/textminer\n",
            "creating textminerpro_hyeonsung-0.0.1/textminerpro_hyeonsung.egg-info\n",
            "copying files to textminerpro_hyeonsung-0.0.1...\n",
            "copying README.md -> textminerpro_hyeonsung-0.0.1\n",
            "copying setup.py -> textminerpro_hyeonsung-0.0.1\n",
            "copying tests/test_cleaner.py -> textminerpro_hyeonsung-0.0.1/tests\n",
            "copying tests/test_detector.py -> textminerpro_hyeonsung-0.0.1/tests\n",
            "copying textminer/__init__.py -> textminerpro_hyeonsung-0.0.1/textminer\n",
            "copying textminer/cleaner.py -> textminerpro_hyeonsung-0.0.1/textminer\n",
            "copying textminer/detector.py -> textminerpro_hyeonsung-0.0.1/textminer\n",
            "copying textminer/keyword.py -> textminerpro_hyeonsung-0.0.1/textminer\n",
            "copying textminer/summarizer.py -> textminerpro_hyeonsung-0.0.1/textminer\n",
            "copying textminerpro_hyeonsung.egg-info/PKG-INFO -> textminerpro_hyeonsung-0.0.1/textminerpro_hyeonsung.egg-info\n",
            "copying textminerpro_hyeonsung.egg-info/SOURCES.txt -> textminerpro_hyeonsung-0.0.1/textminerpro_hyeonsung.egg-info\n",
            "copying textminerpro_hyeonsung.egg-info/dependency_links.txt -> textminerpro_hyeonsung-0.0.1/textminerpro_hyeonsung.egg-info\n",
            "copying textminerpro_hyeonsung.egg-info/requires.txt -> textminerpro_hyeonsung-0.0.1/textminerpro_hyeonsung.egg-info\n",
            "copying textminerpro_hyeonsung.egg-info/top_level.txt -> textminerpro_hyeonsung-0.0.1/textminerpro_hyeonsung.egg-info\n",
            "copying textminerpro_hyeonsung.egg-info/SOURCES.txt -> textminerpro_hyeonsung-0.0.1/textminerpro_hyeonsung.egg-info\n",
            "Writing textminerpro_hyeonsung-0.0.1/setup.cfg\n",
            "creating dist\n",
            "Creating tar archive\n",
            "removing 'textminerpro_hyeonsung-0.0.1' (and everything under it)\n",
            "running bdist_wheel\n",
            "running build\n",
            "running build_py\n",
            "creating build/lib/textminer\n",
            "copying textminer/cleaner.py -> build/lib/textminer\n",
            "copying textminer/summarizer.py -> build/lib/textminer\n",
            "copying textminer/keyword.py -> build/lib/textminer\n",
            "copying textminer/detector.py -> build/lib/textminer\n",
            "copying textminer/__init__.py -> build/lib/textminer\n",
            "/usr/local/lib/python3.11/dist-packages/setuptools/_distutils/cmd.py:66: SetuptoolsDeprecationWarning: setup.py install is deprecated.\n",
            "!!\n",
            "\n",
            "        ********************************************************************************\n",
            "        Please avoid running ``setup.py`` directly.\n",
            "        Instead, use pypa/build, pypa/installer or other\n",
            "        standards-based tools.\n",
            "\n",
            "        See https://blog.ganssle.io/articles/2021/10/setup-py-deprecated.html for details.\n",
            "        ********************************************************************************\n",
            "\n",
            "!!\n",
            "  self.initialize_options()\n",
            "installing to build/bdist.linux-x86_64/wheel\n",
            "running install\n",
            "running install_lib\n",
            "creating build/bdist.linux-x86_64/wheel\n",
            "creating build/bdist.linux-x86_64/wheel/textminer\n",
            "copying build/lib/textminer/cleaner.py -> build/bdist.linux-x86_64/wheel/./textminer\n",
            "copying build/lib/textminer/summarizer.py -> build/bdist.linux-x86_64/wheel/./textminer\n",
            "copying build/lib/textminer/keyword.py -> build/bdist.linux-x86_64/wheel/./textminer\n",
            "copying build/lib/textminer/detector.py -> build/bdist.linux-x86_64/wheel/./textminer\n",
            "copying build/lib/textminer/__init__.py -> build/bdist.linux-x86_64/wheel/./textminer\n",
            "running install_egg_info\n",
            "Copying textminerpro_hyeonsung.egg-info to build/bdist.linux-x86_64/wheel/./textminerpro_hyeonsung-0.0.1-py3.11.egg-info\n",
            "running install_scripts\n",
            "creating build/bdist.linux-x86_64/wheel/textminerpro_hyeonsung-0.0.1.dist-info/WHEEL\n",
            "creating 'dist/textminerpro_hyeonsung-0.0.1-py3-none-any.whl' and adding 'build/bdist.linux-x86_64/wheel' to it\n",
            "adding 'textminer/__init__.py'\n",
            "adding 'textminer/cleaner.py'\n",
            "adding 'textminer/detector.py'\n",
            "adding 'textminer/keyword.py'\n",
            "adding 'textminer/summarizer.py'\n",
            "adding 'textminerpro_hyeonsung-0.0.1.dist-info/METADATA'\n",
            "adding 'textminerpro_hyeonsung-0.0.1.dist-info/WHEEL'\n",
            "adding 'textminerpro_hyeonsung-0.0.1.dist-info/top_level.txt'\n",
            "adding 'textminerpro_hyeonsung-0.0.1.dist-info/RECORD'\n",
            "removing build/bdist.linux-x86_64/wheel\n"
          ]
        }
      ]
    },
    {
      "cell_type": "markdown",
      "source": [
        "# token-api를 사용해서 배포(toekn-api에 api-key)"
      ],
      "metadata": {
        "id": "cz9QiiuqCn7x"
      }
    },
    {
      "cell_type": "code",
      "source": [
        "!pip install twine\n",
        "!twine upload -u __token__ -p \"pypi token 자리입니다 \" dist/*\n"
      ],
      "metadata": {
        "colab": {
          "base_uri": "https://localhost:8080/"
        },
        "id": "PedjOtFzu2q_",
        "outputId": "2777837b-00dc-4fd4-ff9e-2863787112a0"
      },
      "execution_count": 14,
      "outputs": [
        {
          "output_type": "stream",
          "name": "stdout",
          "text": [
            "Requirement already satisfied: twine in /usr/local/lib/python3.11/dist-packages (6.1.0)\n",
            "Requirement already satisfied: readme-renderer>=35.0 in /usr/local/lib/python3.11/dist-packages (from twine) (44.0)\n",
            "Requirement already satisfied: requests>=2.20 in /usr/local/lib/python3.11/dist-packages (from twine) (2.32.3)\n",
            "Requirement already satisfied: requests-toolbelt!=0.9.0,>=0.8.0 in /usr/local/lib/python3.11/dist-packages (from twine) (1.0.0)\n",
            "Requirement already satisfied: urllib3>=1.26.0 in /usr/local/lib/python3.11/dist-packages (from twine) (2.4.0)\n",
            "Requirement already satisfied: keyring>=15.1 in /usr/local/lib/python3.11/dist-packages (from twine) (25.6.0)\n",
            "Requirement already satisfied: rfc3986>=1.4.0 in /usr/local/lib/python3.11/dist-packages (from twine) (2.0.0)\n",
            "Requirement already satisfied: rich>=12.0.0 in /usr/local/lib/python3.11/dist-packages (from twine) (13.9.4)\n",
            "Requirement already satisfied: packaging>=24.0 in /usr/local/lib/python3.11/dist-packages (from twine) (24.2)\n",
            "Requirement already satisfied: id in /usr/local/lib/python3.11/dist-packages (from twine) (1.5.0)\n",
            "Requirement already satisfied: SecretStorage>=3.2 in /usr/local/lib/python3.11/dist-packages (from keyring>=15.1->twine) (3.3.3)\n",
            "Requirement already satisfied: jeepney>=0.4.2 in /usr/local/lib/python3.11/dist-packages (from keyring>=15.1->twine) (0.9.0)\n",
            "Requirement already satisfied: importlib_metadata>=4.11.4 in /usr/local/lib/python3.11/dist-packages (from keyring>=15.1->twine) (8.7.0)\n",
            "Requirement already satisfied: jaraco.classes in /usr/local/lib/python3.11/dist-packages (from keyring>=15.1->twine) (3.4.0)\n",
            "Requirement already satisfied: jaraco.functools in /usr/local/lib/python3.11/dist-packages (from keyring>=15.1->twine) (4.1.0)\n",
            "Requirement already satisfied: jaraco.context in /usr/local/lib/python3.11/dist-packages (from keyring>=15.1->twine) (6.0.1)\n",
            "Requirement already satisfied: nh3>=0.2.14 in /usr/local/lib/python3.11/dist-packages (from readme-renderer>=35.0->twine) (0.2.21)\n",
            "Requirement already satisfied: docutils>=0.21.2 in /usr/local/lib/python3.11/dist-packages (from readme-renderer>=35.0->twine) (0.21.2)\n",
            "Requirement already satisfied: Pygments>=2.5.1 in /usr/local/lib/python3.11/dist-packages (from readme-renderer>=35.0->twine) (2.19.1)\n",
            "Requirement already satisfied: charset-normalizer<4,>=2 in /usr/local/lib/python3.11/dist-packages (from requests>=2.20->twine) (3.4.2)\n",
            "Requirement already satisfied: idna<4,>=2.5 in /usr/local/lib/python3.11/dist-packages (from requests>=2.20->twine) (3.10)\n",
            "Requirement already satisfied: certifi>=2017.4.17 in /usr/local/lib/python3.11/dist-packages (from requests>=2.20->twine) (2025.4.26)\n",
            "Requirement already satisfied: markdown-it-py>=2.2.0 in /usr/local/lib/python3.11/dist-packages (from rich>=12.0.0->twine) (3.0.0)\n",
            "Requirement already satisfied: zipp>=3.20 in /usr/local/lib/python3.11/dist-packages (from importlib_metadata>=4.11.4->keyring>=15.1->twine) (3.22.0)\n",
            "Requirement already satisfied: mdurl~=0.1 in /usr/local/lib/python3.11/dist-packages (from markdown-it-py>=2.2.0->rich>=12.0.0->twine) (0.1.2)\n",
            "Requirement already satisfied: cryptography>=2.0 in /usr/local/lib/python3.11/dist-packages (from SecretStorage>=3.2->keyring>=15.1->twine) (43.0.3)\n",
            "Requirement already satisfied: more-itertools in /usr/local/lib/python3.11/dist-packages (from jaraco.classes->keyring>=15.1->twine) (10.7.0)\n",
            "Requirement already satisfied: backports.tarfile in /usr/local/lib/python3.11/dist-packages (from jaraco.context->keyring>=15.1->twine) (1.2.0)\n",
            "Requirement already satisfied: cffi>=1.12 in /usr/local/lib/python3.11/dist-packages (from cryptography>=2.0->SecretStorage>=3.2->keyring>=15.1->twine) (1.17.1)\n",
            "Requirement already satisfied: pycparser in /usr/local/lib/python3.11/dist-packages (from cffi>=1.12->cryptography>=2.0->SecretStorage>=3.2->keyring>=15.1->twine) (2.22)\n",
            "Uploading distributions to https://upload.pypi.org/legacy/\n",
            "Uploading textminerpro_hyeonsung-0.0.1-py3-none-any.whl\n",
            "\u001b[2K\u001b[35m100%\u001b[0m \u001b[90m━━━━━━━━━━━━━━━━━━━━━━━━━━━━━━━━━━━━━━━━\u001b[0m \u001b[32m6.3/6.3 kB\u001b[0m • \u001b[33m00:00\u001b[0m • \u001b[31m?\u001b[0m\n",
            "\u001b[?25hUploading textminerpro_hyeonsung-0.0.1.tar.gz\n",
            "\u001b[2K\u001b[35m100%\u001b[0m \u001b[90m━━━━━━━━━━━━━━━━━━━━━━━━━━━━━━━━━━━━━━━━\u001b[0m \u001b[32m5.6/5.6 kB\u001b[0m • \u001b[33m00:00\u001b[0m • \u001b[31m?\u001b[0m\n",
            "\u001b[?25h\n",
            "\u001b[32mView at:\u001b[0m\n",
            "https://pypi.org/project/textminerpro-hyeonsung/0.0.1/\n"
          ]
        }
      ]
    },
    {
      "cell_type": "markdown",
      "source": [
        "# nltk download"
      ],
      "metadata": {
        "id": "mrqn9JdYCykj"
      }
    },
    {
      "cell_type": "code",
      "source": [
        "import nltk\n",
        "nltk.download('punkt')\n",
        "nltk.download('punkt_tab')\n",
        "nltk.download('stopwords')"
      ],
      "metadata": {
        "colab": {
          "base_uri": "https://localhost:8080/"
        },
        "id": "vIcnSub6qnlO",
        "outputId": "6b6618d2-d8b7-4c74-95d3-011dca9925d8"
      },
      "execution_count": 15,
      "outputs": [
        {
          "output_type": "stream",
          "name": "stderr",
          "text": [
            "[nltk_data] Downloading package punkt to /root/nltk_data...\n",
            "[nltk_data]   Unzipping tokenizers/punkt.zip.\n",
            "[nltk_data] Downloading package punkt_tab to /root/nltk_data...\n",
            "[nltk_data]   Unzipping tokenizers/punkt_tab.zip.\n",
            "[nltk_data] Downloading package stopwords to /root/nltk_data...\n",
            "[nltk_data]   Unzipping corpora/stopwords.zip.\n"
          ]
        },
        {
          "output_type": "execute_result",
          "data": {
            "text/plain": [
              "True"
            ]
          },
          "metadata": {},
          "execution_count": 15
        }
      ]
    },
    {
      "cell_type": "markdown",
      "source": [
        "# pytest"
      ],
      "metadata": {
        "id": "IDPskjyfC1uV"
      }
    },
    {
      "cell_type": "code",
      "metadata": {
        "colab": {
          "base_uri": "https://localhost:8080/"
        },
        "id": "f26646e0",
        "outputId": "c15cd0cf-f0ca-4b05-9575-8cf5bd9bc59c"
      },
      "source": [
        "!pip install .\n",
        "!pytest tests"
      ],
      "execution_count": 16,
      "outputs": [
        {
          "output_type": "stream",
          "name": "stdout",
          "text": [
            "Processing /content/textminer_pro\n",
            "  Preparing metadata (setup.py) ... \u001b[?25l\u001b[?25hdone\n",
            "Requirement already satisfied: nltk in /usr/local/lib/python3.11/dist-packages (from textminerpro-hyeonsung==0.0.1) (3.9.1)\n",
            "Requirement already satisfied: scikit-learn in /usr/local/lib/python3.11/dist-packages (from textminerpro-hyeonsung==0.0.1) (1.6.1)\n",
            "Requirement already satisfied: sumy in /usr/local/lib/python3.11/dist-packages (from textminerpro-hyeonsung==0.0.1) (0.11.0)\n",
            "Requirement already satisfied: langdetect in /usr/local/lib/python3.11/dist-packages (from textminerpro-hyeonsung==0.0.1) (1.0.9)\n",
            "Requirement already satisfied: six in /usr/local/lib/python3.11/dist-packages (from langdetect->textminerpro-hyeonsung==0.0.1) (1.17.0)\n",
            "Requirement already satisfied: click in /usr/local/lib/python3.11/dist-packages (from nltk->textminerpro-hyeonsung==0.0.1) (8.2.1)\n",
            "Requirement already satisfied: joblib in /usr/local/lib/python3.11/dist-packages (from nltk->textminerpro-hyeonsung==0.0.1) (1.5.1)\n",
            "Requirement already satisfied: regex>=2021.8.3 in /usr/local/lib/python3.11/dist-packages (from nltk->textminerpro-hyeonsung==0.0.1) (2024.11.6)\n",
            "Requirement already satisfied: tqdm in /usr/local/lib/python3.11/dist-packages (from nltk->textminerpro-hyeonsung==0.0.1) (4.67.1)\n",
            "Requirement already satisfied: numpy>=1.19.5 in /usr/local/lib/python3.11/dist-packages (from scikit-learn->textminerpro-hyeonsung==0.0.1) (2.0.2)\n",
            "Requirement already satisfied: scipy>=1.6.0 in /usr/local/lib/python3.11/dist-packages (from scikit-learn->textminerpro-hyeonsung==0.0.1) (1.15.3)\n",
            "Requirement already satisfied: threadpoolctl>=3.1.0 in /usr/local/lib/python3.11/dist-packages (from scikit-learn->textminerpro-hyeonsung==0.0.1) (3.6.0)\n",
            "Requirement already satisfied: docopt<0.7,>=0.6.1 in /usr/local/lib/python3.11/dist-packages (from sumy->textminerpro-hyeonsung==0.0.1) (0.6.2)\n",
            "Requirement already satisfied: breadability>=0.1.20 in /usr/local/lib/python3.11/dist-packages (from sumy->textminerpro-hyeonsung==0.0.1) (0.1.20)\n",
            "Requirement already satisfied: requests>=2.7.0 in /usr/local/lib/python3.11/dist-packages (from sumy->textminerpro-hyeonsung==0.0.1) (2.32.3)\n",
            "Requirement already satisfied: pycountry>=18.2.23 in /usr/local/lib/python3.11/dist-packages (from sumy->textminerpro-hyeonsung==0.0.1) (24.6.1)\n",
            "Requirement already satisfied: chardet in /usr/local/lib/python3.11/dist-packages (from breadability>=0.1.20->sumy->textminerpro-hyeonsung==0.0.1) (5.2.0)\n",
            "Requirement already satisfied: lxml>=2.0 in /usr/local/lib/python3.11/dist-packages (from breadability>=0.1.20->sumy->textminerpro-hyeonsung==0.0.1) (5.4.0)\n",
            "Requirement already satisfied: charset-normalizer<4,>=2 in /usr/local/lib/python3.11/dist-packages (from requests>=2.7.0->sumy->textminerpro-hyeonsung==0.0.1) (3.4.2)\n",
            "Requirement already satisfied: idna<4,>=2.5 in /usr/local/lib/python3.11/dist-packages (from requests>=2.7.0->sumy->textminerpro-hyeonsung==0.0.1) (3.10)\n",
            "Requirement already satisfied: urllib3<3,>=1.21.1 in /usr/local/lib/python3.11/dist-packages (from requests>=2.7.0->sumy->textminerpro-hyeonsung==0.0.1) (2.4.0)\n",
            "Requirement already satisfied: certifi>=2017.4.17 in /usr/local/lib/python3.11/dist-packages (from requests>=2.7.0->sumy->textminerpro-hyeonsung==0.0.1) (2025.4.26)\n",
            "Building wheels for collected packages: textminerpro-hyeonsung\n",
            "  Building wheel for textminerpro-hyeonsung (setup.py) ... \u001b[?25l\u001b[?25hdone\n",
            "  Created wheel for textminerpro-hyeonsung: filename=textminerpro_hyeonsung-0.0.1-py3-none-any.whl size=3158 sha256=732b0c3a7dffb4969ccbc1b23a5b3f144a4734f26c055e5d5d52b2a8db183930\n",
            "  Stored in directory: /tmp/pip-ephem-wheel-cache-1l88noip/wheels/2a/d4/4e/7dd7c42528f76921e6532a65c2244e23707490a7d4ee6e166c\n",
            "Successfully built textminerpro-hyeonsung\n",
            "Installing collected packages: textminerpro-hyeonsung\n",
            "Successfully installed textminerpro-hyeonsung-0.0.1\n",
            "\u001b[1m============================= test session starts ==============================\u001b[0m\n",
            "platform linux -- Python 3.11.13, pytest-8.3.5, pluggy-1.6.0\n",
            "rootdir: /content/textminer_pro\n",
            "plugins: langsmith-0.3.44, anyio-4.9.0, typeguard-4.4.2\n",
            "collected 2 items                                                              \u001b[0m\n",
            "\n",
            "tests/test_cleaner.py \u001b[32m.\u001b[0m\u001b[32m                                                  [ 50%]\u001b[0m\n",
            "tests/test_detector.py \u001b[32m.\u001b[0m\u001b[32m                                                 [100%]\u001b[0m\n",
            "\n",
            "\u001b[32m============================== \u001b[32m\u001b[1m2 passed\u001b[0m\u001b[32m in 6.83s\u001b[0m\u001b[32m ===============================\u001b[0m\n"
          ]
        }
      ]
    },
    {
      "cell_type": "markdown",
      "source": [
        "# 배포한 라이브러리 다운로드"
      ],
      "metadata": {
        "id": "ooDy3I3dC5Ce"
      }
    },
    {
      "cell_type": "code",
      "source": [
        "pip install -i https://test.pypi.org/simple/ textminerpro-hyeonsung"
      ],
      "metadata": {
        "colab": {
          "base_uri": "https://localhost:8080/"
        },
        "id": "gslXXYls6BJi",
        "outputId": "ec28ec19-900e-490e-9e66-abc42767f913"
      },
      "execution_count": 32,
      "outputs": [
        {
          "output_type": "stream",
          "name": "stdout",
          "text": [
            "Looking in indexes: https://test.pypi.org/simple/\n",
            "Requirement already satisfied: textminerpro-hyeonsung in /usr/local/lib/python3.11/dist-packages (0.0.1)\n",
            "Requirement already satisfied: nltk in /usr/local/lib/python3.11/dist-packages (from textminerpro-hyeonsung) (3.9.1)\n",
            "Requirement already satisfied: scikit-learn in /usr/local/lib/python3.11/dist-packages (from textminerpro-hyeonsung) (1.6.1)\n",
            "Requirement already satisfied: sumy in /usr/local/lib/python3.11/dist-packages (from textminerpro-hyeonsung) (0.11.0)\n",
            "Requirement already satisfied: langdetect in /usr/local/lib/python3.11/dist-packages (from textminerpro-hyeonsung) (1.0.9)\n",
            "Requirement already satisfied: six in /usr/local/lib/python3.11/dist-packages (from langdetect->textminerpro-hyeonsung) (1.17.0)\n",
            "Requirement already satisfied: click in /usr/local/lib/python3.11/dist-packages (from nltk->textminerpro-hyeonsung) (8.2.1)\n",
            "Requirement already satisfied: joblib in /usr/local/lib/python3.11/dist-packages (from nltk->textminerpro-hyeonsung) (1.5.1)\n",
            "Requirement already satisfied: regex>=2021.8.3 in /usr/local/lib/python3.11/dist-packages (from nltk->textminerpro-hyeonsung) (2024.11.6)\n",
            "Requirement already satisfied: tqdm in /usr/local/lib/python3.11/dist-packages (from nltk->textminerpro-hyeonsung) (4.67.1)\n",
            "Requirement already satisfied: numpy>=1.19.5 in /usr/local/lib/python3.11/dist-packages (from scikit-learn->textminerpro-hyeonsung) (2.0.2)\n",
            "Requirement already satisfied: scipy>=1.6.0 in /usr/local/lib/python3.11/dist-packages (from scikit-learn->textminerpro-hyeonsung) (1.15.3)\n",
            "Requirement already satisfied: threadpoolctl>=3.1.0 in /usr/local/lib/python3.11/dist-packages (from scikit-learn->textminerpro-hyeonsung) (3.6.0)\n",
            "Requirement already satisfied: docopt<0.7,>=0.6.1 in /usr/local/lib/python3.11/dist-packages (from sumy->textminerpro-hyeonsung) (0.6.2)\n",
            "Requirement already satisfied: breadability>=0.1.20 in /usr/local/lib/python3.11/dist-packages (from sumy->textminerpro-hyeonsung) (0.1.20)\n",
            "Requirement already satisfied: requests>=2.7.0 in /usr/local/lib/python3.11/dist-packages (from sumy->textminerpro-hyeonsung) (2.32.3)\n",
            "Requirement already satisfied: pycountry>=18.2.23 in /usr/local/lib/python3.11/dist-packages (from sumy->textminerpro-hyeonsung) (24.6.1)\n",
            "Requirement already satisfied: chardet in /usr/local/lib/python3.11/dist-packages (from breadability>=0.1.20->sumy->textminerpro-hyeonsung) (5.2.0)\n",
            "Requirement already satisfied: lxml>=2.0 in /usr/local/lib/python3.11/dist-packages (from breadability>=0.1.20->sumy->textminerpro-hyeonsung) (5.4.0)\n",
            "Requirement already satisfied: charset-normalizer<4,>=2 in /usr/local/lib/python3.11/dist-packages (from requests>=2.7.0->sumy->textminerpro-hyeonsung) (3.4.2)\n",
            "Requirement already satisfied: idna<4,>=2.5 in /usr/local/lib/python3.11/dist-packages (from requests>=2.7.0->sumy->textminerpro-hyeonsung) (3.10)\n",
            "Requirement already satisfied: urllib3<3,>=1.21.1 in /usr/local/lib/python3.11/dist-packages (from requests>=2.7.0->sumy->textminerpro-hyeonsung) (2.4.0)\n",
            "Requirement already satisfied: certifi>=2017.4.17 in /usr/local/lib/python3.11/dist-packages (from requests>=2.7.0->sumy->textminerpro-hyeonsung) (2025.4.26)\n"
          ]
        }
      ]
    },
    {
      "cell_type": "markdown",
      "source": [
        "# 프로그램 동작 테스트"
      ],
      "metadata": {
        "id": "Mb834HbIC7w0"
      }
    },
    {
      "cell_type": "code",
      "source": [
        "from textminer import remove_stopwords, extract_keywords, summarize_text, detect_language\n",
        "\n",
        "# 테스트용 텍스트\n",
        "text_ko = \"oss 수업이 너무 즐거웠습니다 교수님 그동안 고생하셨습니다\"\n",
        "text_en = \"The OSS class was really enjoyable. Thank you professor for your efforts.\"\n",
        "# 한글\n",
        "print(\"KOREAN\")\n",
        "print(\"불용어 제거:\", remove_stopwords(text_ko))\n",
        "print(\"키워드 추출:\", extract_keywords(text_ko))\n",
        "print(\"요약:\", summarize_text(text_ko))\n",
        "print(\"언어 감지:\", detect_language(text_ko))\n",
        "\n",
        "# 영어\n",
        "print(\"\\nENGLISH\")\n",
        "print(\"불용어 제거:\", remove_stopwords(text_en))\n",
        "print(\"키워드 추출:\", extract_keywords(text_en))\n",
        "print(\"요약:\", summarize_text(text_en))\n",
        "print(\"언어 감지:\", detect_language(text_en))\n"
      ],
      "metadata": {
        "colab": {
          "base_uri": "https://localhost:8080/"
        },
        "id": "hFf-innk6aRw",
        "outputId": "ee1c6e7c-77bc-4967-fb0d-956abd96f87e"
      },
      "execution_count": 33,
      "outputs": [
        {
          "output_type": "stream",
          "name": "stdout",
          "text": [
            "KOREAN\n",
            "불용어 제거: oss 수업이 너무 즐거웠습니다 교수님 그동안 고생하셨습니다\n",
            "키워드 추출: ['oss', '고생하셨습니다', '교수님', '그동안', '너무']\n",
            "요약: oss 수업이 너무 즐거웠습니다 교수님 그동안 고생하셨습니다\n",
            "언어 감지: ko\n",
            "\n",
            "ENGLISH\n",
            "불용어 제거: OSS class really enjoyable . Thank professor efforts .\n",
            "키워드 추출: ['class', 'efforts', 'enjoyable', 'oss', 'professor']\n",
            "요약: Thank you professor for your efforts.\n",
            "언어 감지: en\n"
          ]
        }
      ]
    },
    {
      "cell_type": "markdown",
      "source": [
        "# githup release 및 pypi release 자동화 워크플로우 설정"
      ],
      "metadata": {
        "id": "0ozy_woreFxL"
      }
    },
    {
      "cell_type": "code",
      "source": [
        "%%writefile .github/workflows/release.yml\n",
        "name: Build and Publish to PyPI + GitHub Release\n",
        "\n",
        "on:\n",
        "  push:\n",
        "    tags:\n",
        "      - 'v0.0.1'\n",
        "\n",
        "jobs:\n",
        "  deploy:\n",
        "    runs-on: ubuntu-latest\n",
        "\n",
        "    steps:\n",
        "    - name: Checkout code\n",
        "      uses: actions/checkout@v3\n",
        "\n",
        "    - name: Set up Python\n",
        "      uses: actions/setup-python@v4\n",
        "      with:\n",
        "        python-version: '3.x'\n",
        "\n",
        "    - name: Install dependencies\n",
        "      run: |\n",
        "        python -m pip install --upgrade pip\n",
        "        pip install setuptools wheel twine\n",
        "\n",
        "    - name: Build package\n",
        "      run: |\n",
        "        python setup.py sdist bdist_wheel\n",
        "\n",
        "    - name: Publish to PyPI\n",
        "      env:\n",
        "        TWINE_USERNAME: __token__\n",
        "        TWINE_PASSWORD: ${{ secrets.PYPI_API_TOKEN }}\n",
        "      run: |\n",
        "        twine upload dist/*\n",
        "\n",
        "    - name: Create GitHub Release\n",
        "      uses: softprops/action-gh-release@v1\n",
        "      with:\n",
        "        files: |\n",
        "          dist/*.whl\n",
        "          dist/*.tar.gz"
      ],
      "metadata": {
        "id": "SCc5ivjLeP9f",
        "colab": {
          "base_uri": "https://localhost:8080/"
        },
        "outputId": "12c478d5-d1e5-48db-e6aa-e6c96568e1c7"
      },
      "execution_count": 37,
      "outputs": [
        {
          "output_type": "stream",
          "name": "stdout",
          "text": [
            "Overwriting .github/workflows/release.yml\n"
          ]
        }
      ]
    },
    {
      "cell_type": "code",
      "source": [
        "!git branch\n",
        "!git branch -m gh-pages master\n",
        "!git push -u origin master --force"
      ],
      "metadata": {
        "colab": {
          "base_uri": "https://localhost:8080/"
        },
        "id": "B7W9zp4pf2bP",
        "outputId": "8d37a50c-3662-4c34-d245-71a6ca2bb32a"
      },
      "execution_count": 41,
      "outputs": [
        {
          "output_type": "stream",
          "name": "stdout",
          "text": [
            "* \u001b[32mgh-pages\u001b[m\n",
            "Enumerating objects: 52, done.\n",
            "Counting objects: 100% (52/52), done.\n",
            "Delta compression using up to 2 threads\n",
            "Compressing objects: 100% (40/40), done.\n",
            "Writing objects: 100% (51/51), 15.93 KiB | 1.99 MiB/s, done.\n",
            "Total 51 (delta 4), reused 0 (delta 0), pack-reused 0\n",
            "remote: Resolving deltas: 100% (4/4), done.\u001b[K\n",
            "To https://github.com/dau-J/pypi_textminor.git\n",
            " + 9723352...3b57258 master -> master (forced update)\n",
            "Branch 'master' set up to track remote branch 'master' from 'origin'.\n"
          ]
        }
      ]
    },
    {
      "cell_type": "code",
      "source": [
        "!git add .\n",
        "!git commit -m \"Add GitHub Actions workflow for release\"\n",
        "!git push origin master"
      ],
      "metadata": {
        "id": "GPatMSwldBG6",
        "colab": {
          "base_uri": "https://localhost:8080/"
        },
        "outputId": "7957b5d6-2b08-4485-d11f-ff5103f1cab7"
      },
      "execution_count": 42,
      "outputs": [
        {
          "output_type": "stream",
          "name": "stdout",
          "text": [
            "On branch master\n",
            "Your branch is up to date with 'origin/master'.\n",
            "\n",
            "nothing to commit, working tree clean\n",
            "Everything up-to-date\n"
          ]
        }
      ]
    },
    {
      "cell_type": "code",
      "source": [
        "!git tag v0.0.1\n",
        "!git push origin v0.0.1"
      ],
      "metadata": {
        "id": "OcVfWB6UdBzx",
        "colab": {
          "base_uri": "https://localhost:8080/"
        },
        "outputId": "6dc28cfc-0e2b-45b6-e203-8356ae00d9b6"
      },
      "execution_count": 43,
      "outputs": [
        {
          "output_type": "stream",
          "name": "stdout",
          "text": [
            "Total 0 (delta 0), reused 0 (delta 0), pack-reused 0\n",
            "To https://github.com/dau-J/pypi_textminor.git\n",
            " * [new tag]         v0.0.1 -> v0.0.1\n"
          ]
        }
      ]
    },
    {
      "cell_type": "markdown",
      "source": [
        "# MKDOCS 문서 자동생성"
      ],
      "metadata": {
        "id": "iXGnYmuhOwBX"
      }
    },
    {
      "cell_type": "code",
      "source": [
        "!mkdir -p textminer_pro/docs"
      ],
      "metadata": {
        "id": "ifTai5SdIm4d"
      },
      "execution_count": 44,
      "outputs": []
    },
    {
      "cell_type": "code",
      "source": [
        "!pip install mkdocs\n",
        "\n",
        "!mkdocs new docs-site\n",
        "\n",
        "!mv docs-site/docs/* textminer_pro/docs/\n",
        "!mv docs-site/mkdocs.yml textminer_pro/\n",
        "!rm -r docs-site"
      ],
      "metadata": {
        "colab": {
          "base_uri": "https://localhost:8080/"
        },
        "id": "CVaoMklwH0W7",
        "outputId": "5fd0a641-7a20-4dd8-f21d-60513d309333"
      },
      "execution_count": 45,
      "outputs": [
        {
          "output_type": "stream",
          "name": "stdout",
          "text": [
            "Requirement already satisfied: mkdocs in /usr/local/lib/python3.11/dist-packages (1.6.1)\n",
            "Requirement already satisfied: click>=7.0 in /usr/local/lib/python3.11/dist-packages (from mkdocs) (8.2.1)\n",
            "Requirement already satisfied: ghp-import>=1.0 in /usr/local/lib/python3.11/dist-packages (from mkdocs) (2.1.0)\n",
            "Requirement already satisfied: jinja2>=2.11.1 in /usr/local/lib/python3.11/dist-packages (from mkdocs) (3.1.6)\n",
            "Requirement already satisfied: markdown>=3.3.6 in /usr/local/lib/python3.11/dist-packages (from mkdocs) (3.8)\n",
            "Requirement already satisfied: markupsafe>=2.0.1 in /usr/local/lib/python3.11/dist-packages (from mkdocs) (3.0.2)\n",
            "Requirement already satisfied: mergedeep>=1.3.4 in /usr/local/lib/python3.11/dist-packages (from mkdocs) (1.3.4)\n",
            "Requirement already satisfied: mkdocs-get-deps>=0.2.0 in /usr/local/lib/python3.11/dist-packages (from mkdocs) (0.2.0)\n",
            "Requirement already satisfied: packaging>=20.5 in /usr/local/lib/python3.11/dist-packages (from mkdocs) (24.2)\n",
            "Requirement already satisfied: pathspec>=0.11.1 in /usr/local/lib/python3.11/dist-packages (from mkdocs) (0.12.1)\n",
            "Requirement already satisfied: pyyaml-env-tag>=0.1 in /usr/local/lib/python3.11/dist-packages (from mkdocs) (1.1)\n",
            "Requirement already satisfied: pyyaml>=5.1 in /usr/local/lib/python3.11/dist-packages (from mkdocs) (6.0.2)\n",
            "Requirement already satisfied: watchdog>=2.0 in /usr/local/lib/python3.11/dist-packages (from mkdocs) (6.0.0)\n",
            "Requirement already satisfied: python-dateutil>=2.8.1 in /usr/local/lib/python3.11/dist-packages (from ghp-import>=1.0->mkdocs) (2.9.0.post0)\n",
            "Requirement already satisfied: platformdirs>=2.2.0 in /usr/local/lib/python3.11/dist-packages (from mkdocs-get-deps>=0.2.0->mkdocs) (4.3.8)\n",
            "Requirement already satisfied: six>=1.5 in /usr/local/lib/python3.11/dist-packages (from python-dateutil>=2.8.1->ghp-import>=1.0->mkdocs) (1.17.0)\n",
            "INFO    -  Creating project directory: docs-site\n",
            "INFO    -  Writing config file: docs-site/mkdocs.yml\n",
            "INFO    -  Writing initial docs: docs-site/docs/index.md\n"
          ]
        }
      ]
    },
    {
      "cell_type": "code",
      "source": [
        "%%writefile mkdocs.yml\n",
        "site_name: textminer-pro\n",
        "repo_url: https://github.com/dau-J/pypi_textminor\n",
        "\n",
        "nav:\n",
        "  - 홈: index.md\n",
        "  - 사용법: usage.md\n",
        "\n",
        "theme:\n",
        "  name: readthedocs"
      ],
      "metadata": {
        "colab": {
          "base_uri": "https://localhost:8080/"
        },
        "id": "D_0Ezx1TJCTK",
        "outputId": "1905a0d5-26ec-4002-c5d2-a705c6ab5409"
      },
      "execution_count": 46,
      "outputs": [
        {
          "output_type": "stream",
          "name": "stdout",
          "text": [
            "Overwriting mkdocs.yml\n"
          ]
        }
      ]
    },
    {
      "cell_type": "code",
      "source": [
        "!mkdir -p docs"
      ],
      "metadata": {
        "id": "uWqnEufzO3F6"
      },
      "execution_count": 47,
      "outputs": []
    },
    {
      "cell_type": "code",
      "source": [
        "%%writefile docs/index.md\n",
        "\n",
        "# pypi_textminor\n",
        "pypi 라이브러리 텍스트마이닝 프로그램\n",
        "\n",
        "textminer-pro\n",
        "A Korean-friendly text preprocessing toolkit that supports:\n",
        "\n",
        "remove_stopwords(text, lang='en')\n",
        "extract_keywords(text, top_n=5)\n",
        "summarize_text(text, ratio=0.2)\n",
        "detect_language(text)\n",
        "\n",
        "## pypi패키지 링크 및 사진\n",
        "pypi패키지 링크 [https://pypi.org/project/textminerpro-hyeonsung/]\n",
        "--------------------------------------------------------------------------------------------\n",
        "![image](https://github.com/user-attachments/assets/1d0adada-88e6-43da-8bb1-c1be6be1c624)\n",
        "\n",
        "\n",
        "\n",
        "\n",
        "## 📁 프로젝트 폴더 구조\n",
        "------------------------------------------------------------------------------------------------\n",
        "\n",
        "```\n",
        "textminer_pro/\n",
        "├── textminer/\n",
        "│   ├── __init__.py\n",
        "│   ├── cleaner.py\n",
        "│   ├── summarizer.py\n",
        "│   └── detector.py\n",
        "│\n",
        "├── tests/\n",
        "│   ├── test_cleaner.py\n",
        "│   └── test_detector.py\n",
        "│\n",
        "├── setup.py\n",
        "├── README.md\n",
        "└── .github/\n",
        "    └── workflows/\n",
        "        └── pypi.yml\n",
        "```\n",
        "\n",
        "\n",
        "\n",
        "### 기능\n",
        "\n",
        "* **텍스트 정제:** 불용어를 효율적으로 제거하고 다른 텍스트 정규화 작업을 수행합니다.\n",
        "* **텍스트 요약:** 긴 텍스트의 간결한 요약을 생성합니다.\n",
        "* **언어 감지:** 주어진 텍스트의 언어를 자동으로 식별합니다.\n",
        "\n",
        "### 설치\n",
        "\n",
        "pip를 통해 TextMiner Pro를 설치할 수 있습니다:\n",
        "\n",
        "```bash\n",
        "pip install textminerpro-hyeonsung==0.0.1"
      ],
      "metadata": {
        "colab": {
          "base_uri": "https://localhost:8080/"
        },
        "id": "00u-UqTIH9tE",
        "outputId": "b1a80965-5737-46c8-a35d-1bf388df380a"
      },
      "execution_count": 48,
      "outputs": [
        {
          "output_type": "stream",
          "name": "stdout",
          "text": [
            "Overwriting docs/index.md\n"
          ]
        }
      ]
    },
    {
      "cell_type": "code",
      "source": [
        "%%writefile docs/usage.md\n",
        "# 사용예시\n",
        "\n",
        "from textminer import remove_stopwords, extract_keywords, summarize_text, detect_language\n",
        "\n",
        "text = \"OSS 수업은 정말 즐거웠습니다.\"\n",
        "\n",
        "# 불용어 제거\n",
        "print(remove_stopwords(text, lang=\"english\"))\n",
        "\n",
        "# 키워드 추출\n",
        "print(extract_keywords(text))\n",
        "\n",
        "# 텍스트 요약\n",
        "print(summarize_text(text))\n",
        "\n",
        "# 언어 감지\n",
        "print(detect_language(text))\n",
        "\n"
      ],
      "metadata": {
        "colab": {
          "base_uri": "https://localhost:8080/"
        },
        "id": "ojXjzL0yIBGs",
        "outputId": "57b706b7-50d5-4506-b626-7b05a82f178f"
      },
      "execution_count": 49,
      "outputs": [
        {
          "output_type": "stream",
          "name": "stdout",
          "text": [
            "Overwriting docs/usage.md\n"
          ]
        }
      ]
    },
    {
      "cell_type": "markdown",
      "source": [
        "# Git 연동 및 Github pages 호스팅"
      ],
      "metadata": {
        "id": "JWXD1ZIXOWnP"
      }
    },
    {
      "cell_type": "code",
      "source": [
        "!git branch\n",
        "!git branch -m master gh-pages"
      ],
      "metadata": {
        "colab": {
          "base_uri": "https://localhost:8080/"
        },
        "id": "02wGN8vHhNV6",
        "outputId": "532d70ce-2c03-4b79-8874-125ac3789f90"
      },
      "execution_count": 53,
      "outputs": [
        {
          "output_type": "stream",
          "name": "stdout",
          "text": [
            "* \u001b[32mgh-pages\u001b[m\n"
          ]
        }
      ]
    },
    {
      "cell_type": "code",
      "source": [
        "!git remote remove origin"
      ],
      "metadata": {
        "id": "I9--ImPOYLKW"
      },
      "execution_count": 54,
      "outputs": []
    },
    {
      "cell_type": "code",
      "source": [
        "# 1. Git 초기화\n",
        "!git init\n",
        "\n",
        "# 2. 사용자 정보 등록\n",
        "!git config --global user.email \"2254784@donga.ac.kr\"\n",
        "!git config --global user.name \"dau-J\"\n",
        "\n",
        "# 3. remote 등록\n",
        "!git remote add origin https://dau-J: github token 자리입니다 @github.com/dau-J/pypi_textminor.git\n",
        "\n",
        "# 4. 변경 파일 add & commit\n",
        "!git add .\n",
        "!git commit -m \"mkdocs deploy test\"\n",
        "\n",
        "# 5. github-pages 브랜치로 push\n",
        "!git branch -M gh-pages\n",
        "!git push -u origin\n",
        "\n",
        "# 6. mkdocs 배포\n",
        "!mkdocs gh-deploy --force"
      ],
      "metadata": {
        "colab": {
          "base_uri": "https://localhost:8080/"
        },
        "id": "crM2z1UjOYOX",
        "outputId": "e3748916-99f1-4bb0-91f1-2bda2b1afbd2"
      },
      "execution_count": 55,
      "outputs": [
        {
          "output_type": "stream",
          "name": "stdout",
          "text": [
            "Reinitialized existing Git repository in /content/textminer_pro/.git/\n",
            "[gh-pages 2b1df95] mkdocs deploy test\n",
            " 1 file changed, 56 insertions(+), 53 deletions(-)\n",
            " rewrite docs/index.md (86%)\n",
            "fatal: The current branch gh-pages has no upstream branch.\n",
            "To push the current branch and set the remote as upstream, use\n",
            "\n",
            "    git push --set-upstream origin gh-pages\n",
            "\n",
            "INFO    -  Cleaning site directory\n",
            "INFO    -  Building documentation to directory: /content/textminer_pro/site\n",
            "INFO    -  Documentation built in 0.10 seconds\n",
            "\u001b[33mWARNING -  \u001b[0mVersion check skipped: No version specified in previous deployment.\n",
            "INFO    -  Copying '/content/textminer_pro/site' to 'gh-pages' branch and pushing to GitHub.\n",
            "Enumerating objects: 50, done.\n",
            "Counting objects: 100% (50/50), done.\n",
            "Delta compression using up to 2 threads\n",
            "Compressing objects: 100% (44/44), done.\n",
            "Writing objects: 100% (47/47), 2.67 MiB | 4.14 MiB/s, done.\n",
            "Total 47 (delta 4), reused 0 (delta 0), pack-reused 0\n",
            "remote: Resolving deltas: 100% (4/4), completed with 1 local object.\u001b[K\n",
            "To https://github.com/dau-J/pypi_textminor.git\n",
            "   e9791fd..617b74d  gh-pages -> gh-pages\n",
            "INFO    -  Your documentation should shortly be available at: https://dau-J.github.io/pypi_textminor/\n"
          ]
        }
      ]
    },
    {
      "cell_type": "code",
      "source": [
        "!git branch\n",
        "!git branch -m gh-pages master"
      ],
      "metadata": {
        "colab": {
          "base_uri": "https://localhost:8080/"
        },
        "id": "EtRVEAzPidZf",
        "outputId": "89bfb45f-509c-42e7-f0a3-483f7fed6afe"
      },
      "execution_count": 57,
      "outputs": [
        {
          "output_type": "stream",
          "name": "stdout",
          "text": [
            "* \u001b[32mmaster\u001b[m\n",
            "fatal: A branch named 'master' already exists.\n"
          ]
        }
      ]
    },
    {
      "cell_type": "markdown",
      "source": [
        "# 폴더 압축 및 다운로드"
      ],
      "metadata": {
        "id": "UZ5rvYIdPGId"
      }
    },
    {
      "cell_type": "code",
      "source": [
        "# 전체 폴더 압축 (예: textminer_pro)\n",
        "import shutil\n",
        "shutil.make_archive('/content/textminer_pro', 'zip', '/content/textminer_pro')"
      ],
      "metadata": {
        "colab": {
          "base_uri": "https://localhost:8080/",
          "height": 35
        },
        "id": "n3DBaYlqPEj5",
        "outputId": "2d821aac-396f-405f-baf3-2aed0050b0ca"
      },
      "execution_count": 30,
      "outputs": [
        {
          "output_type": "execute_result",
          "data": {
            "text/plain": [
              "'/content/textminer_pro.zip'"
            ],
            "application/vnd.google.colaboratory.intrinsic+json": {
              "type": "string"
            }
          },
          "metadata": {},
          "execution_count": 30
        }
      ]
    },
    {
      "cell_type": "code",
      "source": [
        "from google.colab import files\n",
        "files.download('/content/textminer_pro.zip')"
      ],
      "metadata": {
        "colab": {
          "base_uri": "https://localhost:8080/",
          "height": 17
        },
        "id": "QRdLEg42PEGR",
        "outputId": "d0365988-6989-4f5b-bd62-30fc546da10c"
      },
      "execution_count": 31,
      "outputs": [
        {
          "output_type": "display_data",
          "data": {
            "text/plain": [
              "<IPython.core.display.Javascript object>"
            ],
            "application/javascript": [
              "\n",
              "    async function download(id, filename, size) {\n",
              "      if (!google.colab.kernel.accessAllowed) {\n",
              "        return;\n",
              "      }\n",
              "      const div = document.createElement('div');\n",
              "      const label = document.createElement('label');\n",
              "      label.textContent = `Downloading \"${filename}\": `;\n",
              "      div.appendChild(label);\n",
              "      const progress = document.createElement('progress');\n",
              "      progress.max = size;\n",
              "      div.appendChild(progress);\n",
              "      document.body.appendChild(div);\n",
              "\n",
              "      const buffers = [];\n",
              "      let downloaded = 0;\n",
              "\n",
              "      const channel = await google.colab.kernel.comms.open(id);\n",
              "      // Send a message to notify the kernel that we're ready.\n",
              "      channel.send({})\n",
              "\n",
              "      for await (const message of channel.messages) {\n",
              "        // Send a message to notify the kernel that we're ready.\n",
              "        channel.send({})\n",
              "        if (message.buffers) {\n",
              "          for (const buffer of message.buffers) {\n",
              "            buffers.push(buffer);\n",
              "            downloaded += buffer.byteLength;\n",
              "            progress.value = downloaded;\n",
              "          }\n",
              "        }\n",
              "      }\n",
              "      const blob = new Blob(buffers, {type: 'application/binary'});\n",
              "      const a = document.createElement('a');\n",
              "      a.href = window.URL.createObjectURL(blob);\n",
              "      a.download = filename;\n",
              "      div.appendChild(a);\n",
              "      a.click();\n",
              "      div.remove();\n",
              "    }\n",
              "  "
            ]
          },
          "metadata": {}
        },
        {
          "output_type": "display_data",
          "data": {
            "text/plain": [
              "<IPython.core.display.Javascript object>"
            ],
            "application/javascript": [
              "download(\"download_c66a4b4e-2d8b-4159-96d5-d6f52ff5b6b9\", \"textminer_pro.zip\", 5755785)"
            ]
          },
          "metadata": {}
        }
      ]
    }
  ]
}